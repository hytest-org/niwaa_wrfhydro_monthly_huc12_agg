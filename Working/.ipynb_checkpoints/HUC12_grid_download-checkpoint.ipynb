{
 "cells": [
  {
   "cell_type": "code",
   "execution_count": 4,
   "id": "b73918be-edf4-4874-bedb-4795647e82e7",
   "metadata": {},
   "outputs": [],
   "source": [
    "#Paste into terminal:\n",
    "#pip install sciencebasepy\n",
    "\n",
    "import sciencebasepy"
   ]
  },
  {
   "cell_type": "code",
   "execution_count": 5,
   "id": "bf97feaa-9a02-48f0-b8c5-77de98e6614a",
   "metadata": {},
   "outputs": [],
   "source": [
    "#Download the HUC12 grids from sciencebase onto hovenweep"
   ]
  }
 ],
 "metadata": {
  "kernelspec": {
   "display_name": "Python 3 (ipykernel)",
   "language": "python",
   "name": "python3"
  },
  "language_info": {
   "codemirror_mode": {
    "name": "ipython",
    "version": 3
   },
   "file_extension": ".py",
   "mimetype": "text/x-python",
   "name": "python",
   "nbconvert_exporter": "python",
   "pygments_lexer": "ipython3",
   "version": "3.11.6"
  }
 },
 "nbformat": 4,
 "nbformat_minor": 5
}
